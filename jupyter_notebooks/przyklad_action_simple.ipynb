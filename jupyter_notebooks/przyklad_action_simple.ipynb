{
 "cells": [
  {
   "cell_type": "code",
   "execution_count": 1,
   "id": "4fb0b67c",
   "metadata": {},
   "outputs": [],
   "source": [
    "import rclpy"
   ]
  },
  {
   "cell_type": "code",
   "execution_count": 2,
   "id": "ae80c6e0",
   "metadata": {},
   "outputs": [],
   "source": [
    "rclpy.init()"
   ]
  },
  {
   "cell_type": "code",
   "execution_count": 3,
   "id": "a6f30f63",
   "metadata": {},
   "outputs": [],
   "source": [
    "import math\n",
    "\n",
    "\n",
    "from turtlesim.action import RotateAbsolute\n",
    "from rclpy.action import ActionClient\n",
    "\n",
    "def deg2rad(deg):\n",
    "    return deg*math.pi/180\n",
    "\n"
   ]
  },
  {
   "cell_type": "code",
   "execution_count": 6,
   "id": "612edc60",
   "metadata": {},
   "outputs": [
    {
     "ename": "NameError",
     "evalue": "name 'self' is not defined",
     "output_type": "error",
     "traceback": [
      "\u001b[0;31m---------------------------------------------------------------------------\u001b[0m",
      "\u001b[0;31mNameError\u001b[0m                                 Traceback (most recent call last)",
      "Input \u001b[0;32mIn [6]\u001b[0m, in \u001b[0;36m<cell line: 11>\u001b[0;34m()\u001b[0m\n\u001b[1;32m      8\u001b[0m \u001b[38;5;28;01mfrom\u001b[39;00m \u001b[38;5;21;01mturtlesim\u001b[39;00m\u001b[38;5;21;01m.\u001b[39;00m\u001b[38;5;21;01maction\u001b[39;00m \u001b[38;5;28;01mimport\u001b[39;00m RotateAbsolute\n\u001b[1;32m      9\u001b[0m \u001b[38;5;28;01mfrom\u001b[39;00m \u001b[38;5;21;01mrclpy\u001b[39;00m\u001b[38;5;21;01m.\u001b[39;00m\u001b[38;5;21;01maction\u001b[39;00m \u001b[38;5;28;01mimport\u001b[39;00m ActionClient\n\u001b[0;32m---> 11\u001b[0m \u001b[38;5;28;01mclass\u001b[39;00m \u001b[38;5;21;01mTurtleMover\u001b[39;00m(Node): \u001b[38;5;66;03m#here we define new node\u001b[39;00m\n\u001b[1;32m     13\u001b[0m     \u001b[38;5;28;01mdef\u001b[39;00m \u001b[38;5;21m__init__\u001b[39m(\u001b[38;5;28mself\u001b[39m): \n\u001b[1;32m     14\u001b[0m         \u001b[38;5;28msuper\u001b[39m()\u001b[38;5;241m.\u001b[39m\u001b[38;5;21m__init__\u001b[39m(\u001b[38;5;124m'\u001b[39m\u001b[38;5;124mzolwik_przyklad\u001b[39m\u001b[38;5;124m'\u001b[39m)\n",
      "Input \u001b[0;32mIn [6]\u001b[0m, in \u001b[0;36mTurtleMover\u001b[0;34m()\u001b[0m\n\u001b[1;32m     13\u001b[0m \u001b[38;5;28;01mdef\u001b[39;00m \u001b[38;5;21m__init__\u001b[39m(\u001b[38;5;28mself\u001b[39m): \n\u001b[1;32m     14\u001b[0m     \u001b[38;5;28msuper\u001b[39m()\u001b[38;5;241m.\u001b[39m\u001b[38;5;21m__init__\u001b[39m(\u001b[38;5;124m'\u001b[39m\u001b[38;5;124mzolwik_przyklad\u001b[39m\u001b[38;5;124m'\u001b[39m)\n\u001b[0;32m---> 18\u001b[0m \u001b[38;5;28mself\u001b[39m\u001b[38;5;241m.\u001b[39measiest_action \u001b[38;5;241m=\u001b[39m ActionClient(\u001b[38;5;28;43mself\u001b[39;49m\u001b[38;5;241m.\u001b[39mturtle_mover,\n\u001b[1;32m     19\u001b[0m                               RotateAbsolute,\n\u001b[1;32m     20\u001b[0m                               \u001b[38;5;124m'\u001b[39m\u001b[38;5;124mturtle1/rotate_absolute\u001b[39m\u001b[38;5;124m'\u001b[39m)\n\u001b[1;32m     26\u001b[0m \u001b[38;5;28;01mdef\u001b[39;00m \u001b[38;5;21mrotate_zolwis\u001b[39m(\u001b[38;5;28mself\u001b[39m, angle):\n\u001b[1;32m     28\u001b[0m     angle_goal \u001b[38;5;241m=\u001b[39m RotateAbsolute\u001b[38;5;241m.\u001b[39mGoal()\n",
      "\u001b[0;31mNameError\u001b[0m: name 'self' is not defined"
     ]
    }
   ],
   "source": [
    "### podstawowe przyklady do rozwiniecia\n",
    "\n",
    "\n",
    "\n",
    "from rclpy.node import Node\n",
    "\n",
    "\n",
    "from turtlesim.action import RotateAbsolute\n",
    "from rclpy.action import ActionClient\n",
    "\n",
    "class TurtleMover(Node): #here we define new node\n",
    "    \n",
    "    def __init__(self): \n",
    "        super().__init__('zolwik_przyklad')\n",
    "       \n",
    "\n",
    "\n",
    "    self.easiest_action = ActionClient(self.turtle_mover,\n",
    "                                  RotateAbsolute,\n",
    "                                  'turtle1/rotate_absolute')\n",
    "\n",
    "\n",
    "\n",
    "    \n",
    "\n",
    "    def rotate_zolwis(self, angle):\n",
    "\n",
    "        angle_goal = RotateAbsolute.Goal()\n",
    "        angle_goal.theta = deg2rad(angle)\n",
    "\n",
    "        self.easiest_action.send_goal_async(angle_goal)\n",
    "    \n",
    "\n"
   ]
  },
  {
   "cell_type": "code",
   "execution_count": null,
   "id": "8419ae7e",
   "metadata": {},
   "outputs": [],
   "source": []
  }
 ],
 "metadata": {
  "kernelspec": {
   "display_name": "Python 3 (ipykernel)",
   "language": "python",
   "name": "python3"
  },
  "language_info": {
   "codemirror_mode": {
    "name": "ipython",
    "version": 3
   },
   "file_extension": ".py",
   "mimetype": "text/x-python",
   "name": "python",
   "nbconvert_exporter": "python",
   "pygments_lexer": "ipython3",
   "version": "3.8.10"
  }
 },
 "nbformat": 4,
 "nbformat_minor": 5
}
