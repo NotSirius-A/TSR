{
 "cells": [
  {
   "cell_type": "code",
   "execution_count": 15,
   "id": "67bb96c3",
   "metadata": {},
   "outputs": [],
   "source": [
    "import rclpy"
   ]
  },
  {
   "cell_type": "code",
   "execution_count": 16,
   "id": "3e825057",
   "metadata": {},
   "outputs": [],
   "source": [
    "rclpy.init()"
   ]
  },
  {
   "cell_type": "code",
   "execution_count": 17,
   "id": "d9bcde18",
   "metadata": {},
   "outputs": [],
   "source": [
    "### podstawowe przyklady do rozwiniecia\n",
    "\n",
    "\n",
    "\n",
    "from rclpy.node import Node\n",
    "\n",
    "\n",
    "from geometry_msgs.msg import Twist\n",
    "\n",
    "from turtlesim.msg import Pose\n",
    "from turtlesim.srv import SetPen\n",
    "\n",
    "class TurtleMover(Node): #here we define new node\n",
    "    kolorek = \"zielony\"\n",
    "    def __init__(self): \n",
    "        super().__init__('zolwik_przyklad')\n",
    "       \n",
    "        self.publisher_ = self.create_publisher(Twist, \n",
    "                                                'turtle1/cmd_vel',\n",
    "                                                10)\n",
    "\n",
    "        \n",
    "        \n",
    "        self.subscriber = self.create_subscription(\n",
    "    Pose,\n",
    "    \"turtle1/pose\", self.subscription_callback,10) #tu subskrypcja na pozycje\n",
    "        \n",
    "\n",
    "        self.service_client = self.create_client(SetPen,\n",
    "                            \"turtle1/set_pen\")\n",
    "\n",
    "\n",
    "    def subscription_callback(self,pose):\n",
    "        \n",
    "        if (pose.x > 5.5 and self.kolorek == \"zielony\"):\n",
    "            \n",
    "            new_pen = SetPen.Request() \n",
    "\n",
    "            new_pen.r = 255\n",
    "            new_pen.width = 5 \n",
    "            self.service_client.call_async(new_pen)\n",
    "            self.kolorek = \"czerwony\"\n",
    "        elif (pose.x<= 5.5 and self.kolorek == \"czerwony\"):\n",
    "            new_pen = SetPen.Request() \n",
    "\n",
    "            new_pen.r = 0\n",
    "            new_pen.g = 255\n",
    "            new_pen.width = 5 \n",
    "            self.service_client.call_async(new_pen)            \n",
    "            self.kolorek = \"zielony\"\n",
    "    \n",
    "    def move_turtle(self,twist_command): #we add helper function\n",
    "        self.publisher_.publish(twist_command)\n",
    "\n",
    "\n",
    "    "
   ]
  },
  {
   "cell_type": "code",
   "execution_count": 18,
   "id": "4e28f7fc",
   "metadata": {},
   "outputs": [],
   "source": [
    "turtle_mover = TurtleMover()"
   ]
  },
  {
   "cell_type": "code",
   "execution_count": 19,
   "id": "7d9b15cf",
   "metadata": {
    "scrolled": true
   },
   "outputs": [
    {
     "ename": "KeyboardInterrupt",
     "evalue": "",
     "output_type": "error",
     "traceback": [
      "\u001b[0;31m---------------------------------------------------------------------------\u001b[0m",
      "\u001b[0;31mKeyboardInterrupt\u001b[0m                         Traceback (most recent call last)",
      "Input \u001b[0;32mIn [19]\u001b[0m, in \u001b[0;36m<cell line: 1>\u001b[0;34m()\u001b[0m\n\u001b[0;32m----> 1\u001b[0m \u001b[43mrclpy\u001b[49m\u001b[38;5;241;43m.\u001b[39;49m\u001b[43mspin\u001b[49m\u001b[43m(\u001b[49m\u001b[43mturtle_mover\u001b[49m\u001b[43m)\u001b[49m\n",
      "File \u001b[0;32m/opt/ros/foxy/lib/python3.8/site-packages/rclpy/__init__.py:191\u001b[0m, in \u001b[0;36mspin\u001b[0;34m(node, executor)\u001b[0m\n\u001b[1;32m    189\u001b[0m     executor\u001b[38;5;241m.\u001b[39madd_node(node)\n\u001b[1;32m    190\u001b[0m     \u001b[38;5;28;01mwhile\u001b[39;00m executor\u001b[38;5;241m.\u001b[39mcontext\u001b[38;5;241m.\u001b[39mok():\n\u001b[0;32m--> 191\u001b[0m         \u001b[43mexecutor\u001b[49m\u001b[38;5;241;43m.\u001b[39;49m\u001b[43mspin_once\u001b[49m\u001b[43m(\u001b[49m\u001b[43m)\u001b[49m\n\u001b[1;32m    192\u001b[0m \u001b[38;5;28;01mfinally\u001b[39;00m:\n\u001b[1;32m    193\u001b[0m     executor\u001b[38;5;241m.\u001b[39mremove_node(node)\n",
      "File \u001b[0;32m/opt/ros/foxy/lib/python3.8/site-packages/rclpy/executors.py:706\u001b[0m, in \u001b[0;36mSingleThreadedExecutor.spin_once\u001b[0;34m(self, timeout_sec)\u001b[0m\n\u001b[1;32m    704\u001b[0m \u001b[38;5;28;01mdef\u001b[39;00m \u001b[38;5;21mspin_once\u001b[39m(\u001b[38;5;28mself\u001b[39m, timeout_sec: \u001b[38;5;28mfloat\u001b[39m \u001b[38;5;241m=\u001b[39m \u001b[38;5;28;01mNone\u001b[39;00m) \u001b[38;5;241m-\u001b[39m\u001b[38;5;241m>\u001b[39m \u001b[38;5;28;01mNone\u001b[39;00m:\n\u001b[1;32m    705\u001b[0m     \u001b[38;5;28;01mtry\u001b[39;00m:\n\u001b[0;32m--> 706\u001b[0m         handler, entity, node \u001b[38;5;241m=\u001b[39m \u001b[38;5;28;43mself\u001b[39;49m\u001b[38;5;241;43m.\u001b[39;49m\u001b[43mwait_for_ready_callbacks\u001b[49m\u001b[43m(\u001b[49m\u001b[43mtimeout_sec\u001b[49m\u001b[38;5;241;43m=\u001b[39;49m\u001b[43mtimeout_sec\u001b[49m\u001b[43m)\u001b[49m\n\u001b[1;32m    707\u001b[0m     \u001b[38;5;28;01mexcept\u001b[39;00m ShutdownException:\n\u001b[1;32m    708\u001b[0m         \u001b[38;5;28;01mpass\u001b[39;00m\n",
      "File \u001b[0;32m/opt/ros/foxy/lib/python3.8/site-packages/rclpy/executors.py:692\u001b[0m, in \u001b[0;36mExecutor.wait_for_ready_callbacks\u001b[0;34m(self, *args, **kwargs)\u001b[0m\n\u001b[1;32m    689\u001b[0m     \u001b[38;5;28mself\u001b[39m\u001b[38;5;241m.\u001b[39m_cb_iter \u001b[38;5;241m=\u001b[39m \u001b[38;5;28mself\u001b[39m\u001b[38;5;241m.\u001b[39m_wait_for_ready_callbacks(\u001b[38;5;241m*\u001b[39margs, \u001b[38;5;241m*\u001b[39m\u001b[38;5;241m*\u001b[39mkwargs)\n\u001b[1;32m    691\u001b[0m \u001b[38;5;28;01mtry\u001b[39;00m:\n\u001b[0;32m--> 692\u001b[0m     \u001b[38;5;28;01mreturn\u001b[39;00m \u001b[38;5;28;43mnext\u001b[39;49m\u001b[43m(\u001b[49m\u001b[38;5;28;43mself\u001b[39;49m\u001b[38;5;241;43m.\u001b[39;49m\u001b[43m_cb_iter\u001b[49m\u001b[43m)\u001b[49m\n\u001b[1;32m    693\u001b[0m \u001b[38;5;28;01mexcept\u001b[39;00m \u001b[38;5;167;01mStopIteration\u001b[39;00m:\n\u001b[1;32m    694\u001b[0m     \u001b[38;5;66;03m# Generator ran out of work\u001b[39;00m\n\u001b[1;32m    695\u001b[0m     \u001b[38;5;28mself\u001b[39m\u001b[38;5;241m.\u001b[39m_cb_iter \u001b[38;5;241m=\u001b[39m \u001b[38;5;28;01mNone\u001b[39;00m\n",
      "File \u001b[0;32m/opt/ros/foxy/lib/python3.8/site-packages/rclpy/executors.py:589\u001b[0m, in \u001b[0;36mExecutor._wait_for_ready_callbacks\u001b[0;34m(self, timeout_sec, nodes, condition)\u001b[0m\n\u001b[1;32m    586\u001b[0m     waitable\u001b[38;5;241m.\u001b[39madd_to_wait_set(wait_set)\n\u001b[1;32m    588\u001b[0m \u001b[38;5;66;03m# Wait for something to become ready\u001b[39;00m\n\u001b[0;32m--> 589\u001b[0m \u001b[43m_rclpy\u001b[49m\u001b[38;5;241;43m.\u001b[39;49m\u001b[43mrclpy_wait\u001b[49m\u001b[43m(\u001b[49m\u001b[43mwait_set\u001b[49m\u001b[43m,\u001b[49m\u001b[43m \u001b[49m\u001b[43mtimeout_nsec\u001b[49m\u001b[43m)\u001b[49m\n\u001b[1;32m    590\u001b[0m \u001b[38;5;28;01mif\u001b[39;00m \u001b[38;5;28mself\u001b[39m\u001b[38;5;241m.\u001b[39m_is_shutdown:\n\u001b[1;32m    591\u001b[0m     \u001b[38;5;28;01mraise\u001b[39;00m ShutdownException()\n",
      "\u001b[0;31mKeyboardInterrupt\u001b[0m: "
     ]
    }
   ],
   "source": [
    "rclpy.spin(turtle_mover)"
   ]
  },
  {
   "cell_type": "code",
   "execution_count": null,
   "id": "1de2e3fe",
   "metadata": {},
   "outputs": [],
   "source": []
  },
  {
   "cell_type": "code",
   "execution_count": 12,
   "id": "40fb0fa8",
   "metadata": {},
   "outputs": [
    {
     "data": {
      "text/plain": [
       "turtlesim.msg.Pose(x=3.0, y=0.0, theta=0.0, linear_velocity=0.0, angular_velocity=0.0)"
      ]
     },
     "execution_count": 12,
     "metadata": {},
     "output_type": "execute_result"
    }
   ],
   "source": [
    "coscos = Pose()\n",
    "coscos.x  = 3.0\n",
    "coscos"
   ]
  }
 ],
 "metadata": {
  "kernelspec": {
   "display_name": "Python 3 (ipykernel)",
   "language": "python",
   "name": "python3"
  },
  "language_info": {
   "codemirror_mode": {
    "name": "ipython",
    "version": 3
   },
   "file_extension": ".py",
   "mimetype": "text/x-python",
   "name": "python",
   "nbconvert_exporter": "python",
   "pygments_lexer": "ipython3",
   "version": "3.8.10"
  }
 },
 "nbformat": 4,
 "nbformat_minor": 5
}
