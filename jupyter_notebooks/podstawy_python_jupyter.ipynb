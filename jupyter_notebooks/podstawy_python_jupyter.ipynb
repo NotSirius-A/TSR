{
 "cells": [
  {
   "cell_type": "markdown",
   "metadata": {},
   "source": [
    "### heloo, testowy google colab\n",
    "\n",
    "jbjhbhj"
   ]
  },
  {
   "cell_type": "code",
   "execution_count": 7,
   "metadata": {},
   "outputs": [
    {
     "name": "stdout",
     "output_type": "stream",
     "text": [
      "5\n"
     ]
    }
   ],
   "source": [
    "# komentarz\n",
    "\n",
    "# if\n",
    "\n",
    "wielkosc = 5\n",
    "\n",
    "print(wielkosc)"
   ]
  },
  {
   "cell_type": "code",
   "execution_count": 13,
   "metadata": {},
   "outputs": [
    {
     "name": "stdout",
     "output_type": "stream",
     "text": [
      "w sam raz\n"
     ]
    }
   ],
   "source": [
    "if wielkosc > 6:\n",
    "    print(\"ale duze\")\n",
    "elif wielkosc < 3:\n",
    "    print(\"malutkie\")\n",
    "    print('franek')\n",
    "else:\n",
    "    print(\"w sam raz\")"
   ]
  },
  {
   "cell_type": "code",
   "execution_count": 2,
   "metadata": {},
   "outputs": [
    {
     "name": "stdout",
     "output_type": "stream",
     "text": [
      "['Ania', 'Zosia', 'Kasia', 'Franek']\n"
     ]
    }
   ],
   "source": [
    "studenci = [\"Ania\", \"Zosia\", \"Kasia\", \"Franek\"]\n",
    "\n",
    "print(studenci)"
   ]
  },
  {
   "cell_type": "code",
   "execution_count": 70,
   "metadata": {},
   "outputs": [
    {
     "name": "stdout",
     "output_type": "stream",
     "text": [
      "['Ania', 'Zosia', 'Kasia', 'Franek', 'Krzysztof']\n"
     ]
    }
   ],
   "source": [
    "studenci.append(\"Krzysztof\")\n",
    "print(studenci)"
   ]
  },
  {
   "cell_type": "code",
   "execution_count": 16,
   "metadata": {},
   "outputs": [
    {
     "data": {
      "text/plain": [
       "'Ania'"
      ]
     },
     "execution_count": 16,
     "metadata": {},
     "output_type": "execute_result"
    }
   ],
   "source": [
    "studenci[0][1]"
   ]
  },
  {
   "cell_type": "code",
   "execution_count": 18,
   "metadata": {
    "scrolled": true
   },
   "outputs": [
    {
     "name": "stdout",
     "output_type": "stream",
     "text": [
      "student ma na imie: Ania\n",
      "student ma na imie: Zosia\n",
      "student ma na imie: Kasia\n",
      "student ma na imie: Franek\n",
      "Ania\n",
      "student na poczatku alfabetu\n",
      "Zosia\n",
      "Kasia\n",
      "Franek\n"
     ]
    }
   ],
   "source": [
    "for student in studenci:\n",
    "    print(\"student ma na imie:\", student)\n",
    "    \n",
    "for student in studenci:\n",
    "    print(student)\n",
    "    if student[0]==\"A\":\n",
    "        print(\"student na poczatku alfabetu\")"
   ]
  },
  {
   "cell_type": "code",
   "execution_count": 56,
   "metadata": {},
   "outputs": [
    {
     "name": "stdout",
     "output_type": "stream",
     "text": [
      "Ania\n",
      "Zosia\n",
      "['Kasia', 'Franek']\n",
      "['a', 'b'] c d\n"
     ]
    }
   ],
   "source": [
    "pierwszy_student, drugi_student, *reszta_studentow = studenci\n",
    "\n",
    "print(pierwszy_student)\n",
    "print(drugi_student)\n",
    "print(reszta_studentow)\n",
    "\n",
    "lista_list = [\"a\",\"b\",[\"c\",\"d\"]]\n",
    "\n",
    "*pierwsze_dwa, (trzeci,czwarty) = lista_list\n",
    "\n",
    "print(pierwsze_dwa,trzeci, czwarty)\n",
    "\n",
    "\n"
   ]
  },
  {
   "cell_type": "code",
   "execution_count": 69,
   "metadata": {},
   "outputs": [
    {
     "name": "stdout",
     "output_type": "stream",
     "text": [
      "['Ania', 'Zosia', 'Kasia', 'Franek']\n"
     ]
    }
   ],
   "source": [
    "print(studenci)\n",
    "fabryczka = enumerate(studenci) #tworzy się generator"
   ]
  },
  {
   "cell_type": "code",
   "execution_count": 68,
   "metadata": {},
   "outputs": [
    {
     "ename": "StopIteration",
     "evalue": "",
     "output_type": "error",
     "traceback": [
      "\u001b[0;31m---------------------------------------------------------------------------\u001b[0m",
      "\u001b[0;31mStopIteration\u001b[0m                             Traceback (most recent call last)",
      "\u001b[0;32m<ipython-input-68-c3c72ac199ed>\u001b[0m in \u001b[0;36m<module>\u001b[0;34m\u001b[0m\n\u001b[0;32m----> 1\u001b[0;31m \u001b[0mnumer\u001b[0m\u001b[0;34m,\u001b[0m \u001b[0mstudent\u001b[0m \u001b[0;34m=\u001b[0m \u001b[0mnext\u001b[0m\u001b[0;34m(\u001b[0m\u001b[0mfabryczka\u001b[0m\u001b[0;34m)\u001b[0m\u001b[0;34m\u001b[0m\u001b[0;34m\u001b[0m\u001b[0m\n\u001b[0m\u001b[1;32m      2\u001b[0m \u001b[0mprint\u001b[0m\u001b[0;34m(\u001b[0m\u001b[0mnumer\u001b[0m\u001b[0;34m)\u001b[0m\u001b[0;34m\u001b[0m\u001b[0;34m\u001b[0m\u001b[0m\n\u001b[1;32m      3\u001b[0m \u001b[0mprint\u001b[0m\u001b[0;34m(\u001b[0m\u001b[0mstudent\u001b[0m\u001b[0;34m)\u001b[0m\u001b[0;34m\u001b[0m\u001b[0;34m\u001b[0m\u001b[0m\n",
      "\u001b[0;31mStopIteration\u001b[0m: "
     ]
    }
   ],
   "source": [
    "numer, student = next(fabryczka)\n",
    "print(numer)\n",
    "print(student)"
   ]
  },
  {
   "cell_type": "code",
   "execution_count": 51,
   "metadata": {},
   "outputs": [
    {
     "name": "stdout",
     "output_type": "stream",
     "text": [
      "student Ania ma numer 0\n",
      "student Zosia ma numer 1\n",
      "student Kasia ma numer 2\n",
      "student Franek ma numer 3\n"
     ]
    }
   ],
   "source": [
    "for numer, student in enumerate(studenci):\n",
    "    print(\"student {} ma numer {}\".format(student,numer))"
   ]
  },
  {
   "cell_type": "code",
   "execution_count": 93,
   "metadata": {},
   "outputs": [
    {
     "name": "stdout",
     "output_type": "stream",
     "text": [
      "['Ania', 'Zosia', 'Kasia', 'Franek', 'Krzysztof']\n",
      "[2, 2, 5, 3]\n",
      "<zip object at 0x7f57120ecf00>\n"
     ]
    }
   ],
   "source": [
    "print(studenci)\n",
    "oceny = [2,2,5,3]\n",
    "\n",
    "print(oceny)\n",
    "\n",
    "studenci_oceny = zip(studenci,oceny)\n",
    "\n",
    "print(studenci_oceny)\n"
   ]
  },
  {
   "cell_type": "code",
   "execution_count": 96,
   "metadata": {},
   "outputs": [
    {
     "name": "stdout",
     "output_type": "stream",
     "text": [
      "('Kasia', 5)\n",
      "('Franek', 3)\n"
     ]
    }
   ],
   "source": [
    "for para in studenci_oceny:\n",
    "    print(para)"
   ]
  },
  {
   "cell_type": "code",
   "execution_count": 95,
   "metadata": {},
   "outputs": [
    {
     "data": {
      "text/plain": [
       "('Zosia', 2)"
      ]
     },
     "execution_count": 95,
     "metadata": {},
     "output_type": "execute_result"
    }
   ],
   "source": [
    "next(studenci_oceny)\n",
    "\n",
    "del "
   ]
  },
  {
   "cell_type": "code",
   "execution_count": 53,
   "metadata": {},
   "outputs": [
    {
     "name": "stdout",
     "output_type": "stream",
     "text": [
      "student Ania ma numer 0 i ocenę 2\n",
      "student Zosia ma numer 1 i ocenę 2\n",
      "student Kasia ma numer 2 i ocenę 5\n",
      "student Franek ma numer 3 i ocenę 3\n",
      "----------------------------------------\n",
      "student Ania ma numer 0 i ocenę 2\n",
      "student Zosia ma numer 1 i ocenę 2\n",
      "student Kasia ma numer 2 i ocenę 5\n",
      "student Franek ma numer 3 i ocenę 3\n"
     ]
    }
   ],
   "source": [
    "oceny = [2,2,5,3]\n",
    "\n",
    "for numer, student in enumerate(studenci):\n",
    "    print(\"student {} ma numer {} i ocenę {}\".format(student,numer,oceny[numer]))\n",
    "\n",
    "print(\"--\"*20)    \n",
    "for number, (student, ocena) in enumerate(zip(studenci,oceny)):\n",
    "    print(\"student {} ma numer {} i ocenę {}\".format(student,number,ocena))"
   ]
  },
  {
   "cell_type": "code",
   "execution_count": 25,
   "metadata": {},
   "outputs": [],
   "source": [
    "trzy_elementy = [1,2,3]\n",
    "pierwszy,drugi,trzeci = trzy_elementy"
   ]
  },
  {
   "cell_type": "code",
   "execution_count": 42,
   "metadata": {},
   "outputs": [
    {
     "name": "stdout",
     "output_type": "stream",
     "text": [
      "1\n",
      "2\n",
      "3\n",
      "4\n",
      "5\n",
      "6\n",
      "7\n",
      "8\n",
      "9\n"
     ]
    }
   ],
   "source": [
    "n = 1\n",
    "\n",
    "while not rospy.is_shutdown():\n",
    "    print(n)\n",
    "    n+=1"
   ]
  },
  {
   "cell_type": "code",
   "execution_count": 45,
   "metadata": {},
   "outputs": [],
   "source": [
    "def dodaj_dwa(liczba):\n",
    "    \"\"\"dodaje dwa do liczby\n",
    "    \n",
    "    Args:\n",
    "        liczba: liczba do dodania 2\n",
    "        \n",
    "    Returns:\n",
    "        number: liczba z dodaną dwójką\n",
    "    \n",
    "    \"\"\"\n",
    "    print(\"hello\")\n",
    "    \n",
    "    \n",
    "    return liczba+2\n",
    "\n",
    "def dodaj_trzy(liczba):\n",
    "    \n",
    "    return liczba+3\n",
    "\n",
    "def dodaj_dwie_liczby(liczba1,liczba2):\n",
    "    return liczba1+liczba2\n",
    "\n",
    "\n",
    "dodaj_cztery = lambda liczba:liczba+4"
   ]
  },
  {
   "cell_type": "code",
   "execution_count": 47,
   "metadata": {},
   "outputs": [
    {
     "name": "stdout",
     "output_type": "stream",
     "text": [
      "hello\n"
     ]
    },
    {
     "data": {
      "text/plain": [
       "5"
      ]
     },
     "execution_count": 47,
     "metadata": {},
     "output_type": "execute_result"
    }
   ],
   "source": [
    "nowa_nazwa_dodaj_dwa = dodaj_dwa\n",
    "\n",
    "nowa_nazwa_dodaj_dwa(3)"
   ]
  },
  {
   "cell_type": "code",
   "execution_count": 48,
   "metadata": {},
   "outputs": [
    {
     "name": "stdout",
     "output_type": "stream",
     "text": [
      "hello\n",
      "12\n",
      "13\n",
      "14\n"
     ]
    }
   ],
   "source": [
    "funkcje = [dodaj_dwa,dodaj_trzy,dodaj_cztery]\n",
    "\n",
    "jakis_nr = 10\n",
    "\n",
    "for funkcja in funkcje:\n",
    "    print(funkcja(jakis_nr))"
   ]
  },
  {
   "cell_type": "code",
   "execution_count": 6,
   "metadata": {},
   "outputs": [
    {
     "name": "stdout",
     "output_type": "stream",
     "text": [
      "4\n",
      "['Ania', 'Zosia', 'Kasia', 'Franek']\n",
      "Ania\n",
      "['Kasia', 'Franek']\n",
      "['Zosia', 'Kasia', 'Franek']\n",
      "['Ania', 'Zosia', 'Kasia']\n"
     ]
    },
    {
     "data": {
      "text/plain": [
       "['Ania', 'Zosia', 'Kasia', 'Franek']"
      ]
     },
     "execution_count": 6,
     "metadata": {},
     "output_type": "execute_result"
    }
   ],
   "source": [
    "print(len(studenci))\n",
    "print(studenci)\n",
    "print(studenci[0]) #element 1 listy :|\n",
    "print(studenci[2:4])# od 3 do 4 wlacznie\n",
    "print(studenci[1:])# od 2 do konca\n",
    "print(studenci[:-1]) # od poczatku do przedostatniego\n",
    "studenci"
   ]
  },
  {
   "cell_type": "code",
   "execution_count": 113,
   "metadata": {},
   "outputs": [
    {
     "data": {
      "text/plain": [
       "[('Franek', 3), ('Kasia', 5), ('Zosia', 2), ('Ania', 2)]"
      ]
     },
     "execution_count": 113,
     "metadata": {},
     "output_type": "execute_result"
    }
   ],
   "source": [
    "lista_z_zipa = list(zip(studenci,oceny))\n",
    "\n",
    "list(reversed(lista_z_zipa))\n"
   ]
  },
  {
   "cell_type": "code",
   "execution_count": 40,
   "metadata": {},
   "outputs": [],
   "source": [
    "#### challenge 0.1\n",
    "\n",
    "zajecia = [\"wf\",\"informatyka\",\"relax\",\"mispy\",\"piateczek\"]\n",
    "\n",
    "dnityg = [\"Pon\",\"Wto\",\"Sro\",\"Czwar\",\"Pio\"]\n",
    "\n",
    "# wyprintuj zajecia od srody do piatku\n",
    "# [\"relax\",\"mispy\",\"piateczek\"]\n",
    "# wyprintuj oprocz srody\n",
    "# [\"wf\",\"informatyka\",\"mispy\",\"piateczek\"]"
   ]
  },
  {
   "cell_type": "code",
   "execution_count": 36,
   "metadata": {},
   "outputs": [],
   "source": [
    "#### challenge 0.2\n",
    "\n",
    "zajecia = [[\"wf\"],\n",
    "           [\"informatyka\", \"nauka czytania\"],\n",
    "           [\"relax\", \"jedzenie\"],\n",
    "           [\"mispy\",\"mispy w domu\"],\n",
    "           [\"piateczek\", \"praca domowa z mispow\", \"Ilovemispy\", \"mispy w czasie snu\"]\n",
    "          ]\n",
    "\n",
    "dnityg = [\"Pon\",\"Wto\",\"Sro\",\"Czwar\",\"Pio\"]\n",
    "\n",
    "# zdefiniuj funkcje ktora poda ile jest zajec danego dnia\n",
    "# lista_zajec_z_dnia -> ile ich jest\n",
    "\n",
    "# po\n",
    "# posortuj dni po najbardziej zajetych\n",
    "\n",
    "\n",
    "#### challenge 0.3\n",
    "\n",
    "# napisz program ktory zdajdzie dzien z najwieksza iloscia mispow"
   ]
  },
  {
   "cell_type": "code",
   "execution_count": 81,
   "metadata": {},
   "outputs": [
    {
     "data": {
      "text/plain": [
       "'a'"
      ]
     },
     "execution_count": 81,
     "metadata": {},
     "output_type": "execute_result"
    }
   ],
   "source": [
    "[\"ciag_znakow\"][0][2]\n"
   ]
  },
  {
   "cell_type": "code",
   "execution_count": 90,
   "metadata": {},
   "outputs": [
    {
     "name": "stdout",
     "output_type": "stream",
     "text": [
      "[1, 1, 2, 3, 50]\n"
     ]
    },
    {
     "data": {
      "text/plain": [
       "2"
      ]
     },
     "execution_count": 90,
     "metadata": {},
     "output_type": "execute_result"
    }
   ],
   "source": [
    "nieposortowana_lista = [1,2,3,50,1]\n",
    "nieposortowana_lista.sort()\n",
    "\n",
    "print(nieposortowana_lista)\n",
    "\n",
    "nieposortowana_lista.count(1)"
   ]
  },
  {
   "cell_type": "code",
   "execution_count": 102,
   "metadata": {},
   "outputs": [
    {
     "data": {
      "text/plain": [
       "7"
      ]
     },
     "execution_count": 102,
     "metadata": {},
     "output_type": "execute_result"
    }
   ],
   "source": [
    "len(str(22)+\"hello\")"
   ]
  },
  {
   "cell_type": "code",
   "execution_count": 110,
   "metadata": {},
   "outputs": [
    {
     "data": {
      "text/plain": [
       "[1, 2, 3, 1, 'a', 50, [1, 2]]"
      ]
     },
     "execution_count": 110,
     "metadata": {},
     "output_type": "execute_result"
    }
   ],
   "source": [
    "def element_na_numer(element):\n",
    "    return len(str(element))\n",
    "sorted([1,2,3,50,1,\"a\",[1,2]], key = lambda element: len(str(element)))\n",
    "        \n"
   ]
  },
  {
   "cell_type": "code",
   "execution_count": 51,
   "metadata": {},
   "outputs": [
    {
     "data": {
      "text/plain": [
       "[(1, '11'), (0, '22'), (2, '33'), (3, '100')]"
      ]
     },
     "execution_count": 51,
     "metadata": {},
     "output_type": "execute_result"
    }
   ],
   "source": [
    "len(zajecia)\n",
    "\n",
    "zajecia[4][1]\n",
    "\n",
    "\"Ma\" in \"MojaMaMa\"\n",
    "\n",
    "liczby=[\"22\",\"11\",\"33\",\"100\"]\n",
    "liczby_i_nazwy = [(\"22\",\"dwadziescia dwa\"),\n",
    "                 (\"11\",\"jedenascie\"),\n",
    "        (\"33\",\"trzydziesci trzy\"),(\"100\",\"sto\")]\n",
    "sorted(liczby)\n",
    "\n",
    "sorted(liczby, key=int)\n",
    "\n",
    "liczby_kolejnosc= enumerate(liczby)\n",
    "\n",
    "def czy_jest_jeden(liczba):\n",
    "\n",
    "    if \"1\" in liczba:\n",
    "        return 1\n",
    "    else:\n",
    "        return 0\n",
    "def na_liczbe(krotka):\n",
    "         return int(krotka[0])\n",
    "def na_liczbe_index(krotka):\n",
    "         return int(krotka[1])    \n",
    "sorted(liczby, key = czy_jest_jeden)\n",
    "         \n",
    "sorted(liczby_i_nazwy,key = na_liczbe)\n",
    "\n",
    "sorted(liczby_kolejnosc,key = na_liczbe_index)"
   ]
  },
  {
   "cell_type": "code",
   "execution_count": 41,
   "metadata": {},
   "outputs": [
    {
     "ename": "SyntaxError",
     "evalue": "invalid syntax (<ipython-input-41-34882cb7125b>, line 1)",
     "output_type": "error",
     "traceback": [
      "\u001b[0;36m  File \u001b[0;32m\"<ipython-input-41-34882cb7125b>\"\u001b[0;36m, line \u001b[0;32m1\u001b[0m\n\u001b[0;31m    sorted(liczby_kolejnosc,key=)\u001b[0m\n\u001b[0m                                ^\u001b[0m\n\u001b[0;31mSyntaxError\u001b[0m\u001b[0;31m:\u001b[0m invalid syntax\n"
     ]
    }
   ],
   "source": [
    "sorted(liczby_kolejnosc,key=)"
   ]
  },
  {
   "cell_type": "code",
   "execution_count": 115,
   "metadata": {},
   "outputs": [
    {
     "data": {
      "text/plain": [
       "1"
      ]
     },
     "execution_count": 115,
     "metadata": {},
     "output_type": "execute_result"
    }
   ],
   "source": [
    "(1,2,3,4,5)[0]"
   ]
  },
  {
   "cell_type": "code",
   "execution_count": null,
   "metadata": {},
   "outputs": [],
   "source": []
  }
 ],
 "metadata": {
  "kernelspec": {
   "display_name": "Python 3",
   "language": "python",
   "name": "python3"
  },
  "language_info": {
   "codemirror_mode": {
    "name": "ipython",
    "version": 3
   },
   "file_extension": ".py",
   "mimetype": "text/x-python",
   "name": "python",
   "nbconvert_exporter": "python",
   "pygments_lexer": "ipython3",
   "version": "3.8.5"
  }
 },
 "nbformat": 4,
 "nbformat_minor": 2
}
