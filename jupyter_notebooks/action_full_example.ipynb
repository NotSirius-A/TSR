{
 "cells": [
  {
   "cell_type": "code",
   "execution_count": null,
   "id": "c4f59d1d",
   "metadata": {},
   "outputs": [],
   "source": [
    "import rclpy\n",
    "rclpy.init()\n",
    "\n",
    "import math\n",
    "\n",
    "\n",
    "from turtlesim.action import RotateAbsolute\n",
    "from rclpy.action import ActionClient\n",
    "\n",
    "def deg2rad(deg):\n",
    "    return deg*math.pi/180\n",
    "\n"
   ]
  },
  {
   "cell_type": "code",
   "execution_count": null,
   "id": "a802fe4f",
   "metadata": {},
   "outputs": [],
   "source": [
    "\n",
    "\n",
    "\n",
    "from rclpy.node import Node\n",
    "\n",
    "\n",
    "from turtlesim.action import RotateAbsolute\n",
    "from rclpy.action import ActionClient\n",
    "\n",
    "class TurtleMover(Node): #here we define new node\n",
    "    robot_obraca_sie = False\n",
    "    def __init__(self): \n",
    "        super().__init__('zolwik_przyklad_action_simpe')\n",
    "       \n",
    "\n",
    "\n",
    "        self.easiest_action = ActionClient(self,\n",
    "                                  RotateAbsolute,\n",
    "                                  'turtle1/rotate_absolute')\n",
    "    def informuj_obrot(self, future):\n",
    "            \"\"\"callback that runs when robot\n",
    "        sends us feedback\"\"\"\n",
    "            \n",
    "        self.robot_obraca_sie = True\n",
    "        try:\n",
    "            print(\"FEEDBACK: remaining radians {}\".format(\n",
    "                future.feedback.remaining))\n",
    "        except:\n",
    "            pass\n",
    "        \n",
    "    def received_task(self, future):\n",
    "        \"\"\"callback that runs when robot responds\"\"\"\n",
    "        goal_handle =  future.result()\n",
    "\n",
    "        if not goal_handle.accepted:\n",
    "            print(\"not accepted\")\n",
    "            return\n",
    "\n",
    "        get_result_future = goal_handle.get_result_async()\n",
    "\n",
    "        get_result_future.add_done_callback(self.finished_callback)\n",
    "\n",
    "    def finished_callback(self,future):\n",
    "        \"\"\"callback that runs when robot finishes\"\"\"\n",
    "        print(\"done\")\n",
    "        print(\"radial distance was {}\".format(\n",
    "            future.result().result.delta))  \n",
    "        \n",
    "        self.robot_obraca_sie = False\n",
    "        \n",
    "        \n",
    "    def rotate_zolwis(self, angle):\n",
    "\n",
    "            angle_goal = RotateAbsolute.Goal()\n",
    "            angle_goal.theta = deg2rad(angle)\n",
    "\n",
    "            self.goal_future = self.easiest_action.send_goal_async(angle_goal,\n",
    "                                               feedback_callback = \n",
    "                                               )\n",
    "            \n",
    "            self.goal_future.add_done_callback(self.received_task)\n",
    "\n",
    "        \n",
    "\n",
    "\n"
   ]
  },
  {
   "cell_type": "code",
   "execution_count": null,
   "id": "ab0e82ea",
   "metadata": {},
   "outputs": [],
   "source": [
    "turtle_mover = TurtleMover()"
   ]
  },
  {
   "cell_type": "code",
   "execution_count": null,
   "id": "e3abc997",
   "metadata": {},
   "outputs": [],
   "source": [
    "rclpy.spin(turtle_mover)"
   ]
  }
 ],
 "metadata": {
  "kernelspec": {
   "display_name": "Python 3 (ipykernel)",
   "language": "python",
   "name": "python3"
  },
  "language_info": {
   "codemirror_mode": {
    "name": "ipython",
    "version": 3
   },
   "file_extension": ".py",
   "mimetype": "text/x-python",
   "name": "python",
   "nbconvert_exporter": "python",
   "pygments_lexer": "ipython3",
   "version": "3.8.10"
  }
 },
 "nbformat": 4,
 "nbformat_minor": 5
}
