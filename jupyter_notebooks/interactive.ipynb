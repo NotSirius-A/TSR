{
 "cells": [
  {
   "cell_type": "code",
   "execution_count": 16,
   "id": "09c730b0",
   "metadata": {},
   "outputs": [
    {
     "name": "stdout",
     "output_type": "stream",
     "text": [
      "Reading package lists... Done\n",
      "Building dependency tree       \n",
      "Reading state information... Done\n",
      "0 upgraded, 0 newly installed, 1 reinstalled, 0 to remove and 8 not upgraded.\n",
      "Need to get 231 kB of archives.\n",
      "After this operation, 0 B of additional disk space will be used.\n",
      "Get:1 http://mirrors.ubuntu.com/mirrors.txt Mirrorlist [204 B]\n",
      "Get:2 http://ftp.icm.edu.pl/pub/Linux/ubuntu focal-updates/universe amd64 python3-pip all 20.0.2-5ubuntu1.8 [231 kB]\n",
      "Fetched 231 kB in 1s (301 kB/s)     \n",
      "debconf: unable to initialize frontend: Dialog\n",
      "debconf: (No usable dialog-like program is installed, so the dialog based frontend cannot be used. at /usr/share/perl5/Debconf/FrontEnd/Dialog.pm line 76, <> line 1.)\n",
      "debconf: falling back to frontend: Readline\n",
      "(Reading database ... 149498 files and directories currently installed.)\n",
      "Preparing to unpack .../python3-pip_20.0.2-5ubuntu1.8_all.deb ...\n",
      "Unpacking python3-pip (20.0.2-5ubuntu1.8) over (20.0.2-5ubuntu1.8) ...\n",
      "Setting up python3-pip (20.0.2-5ubuntu1.8) ...\n"
     ]
    }
   ],
   "source": [
    "!sudo apt-get -y install --reinstall python3-pip\n",
    "!sudo pip3 install ipywidgets\n",
    "!jupyter nbextension enable --py widgetsnbextension"
   ]
  },
  {
   "cell_type": "code",
   "execution_count": 20,
   "id": "fbc2a451",
   "metadata": {},
   "outputs": [],
   "source": [
    "import ipywidgets as widgets\n",
    "from IPython.display import display\n",
    "\n",
    "from ipywidgets import interact, interactive, fixed, interact_manual\n",
    "from ipywidgets import IntSlider\n",
    "import ipywidgets as widgets\n",
    "\n",
    "def process_selection(selection):\n",
    "    print(f\"You selected: {selection['new']}\")\n",
    "\n",
    "# Create a list of options\n",
    "options_list = ['Option 1', 'Option 2', 'Option 3']\n",
    "\n",
    "# Create a dropdown widget\n",
    "dropdown = widgets.Dropdown(\n",
    "    options=options_list,\n",
    "    value=options_list[0],\n",
    "    description='Select an option:',\n",
    "    disabled=False,\n",
    ")\n",
    "\n",
    "# Attach the function to process the selection\n",
    "#dropdown.observe(process_selection, names='value')\n",
    "\n",
    "# Display the dropdown widget\n",
    "#display(dropdown)"
   ]
  },
  {
   "cell_type": "code",
   "execution_count": 20,
   "id": "90d79dcb",
   "metadata": {},
   "outputs": [],
   "source": [
    "from ipywidgets import interact, interactive, fixed, interact_manual\n",
    "import ipywidgets as widgets"
   ]
  },
  {
   "cell_type": "code",
   "execution_count": 15,
   "id": "089ce9db",
   "metadata": {},
   "outputs": [
    {
     "data": {
      "application/vnd.jupyter.widget-view+json": {
       "model_id": "218143993c3d43afa5f869d3d1a13d5f",
       "version_major": 2,
       "version_minor": 0
      },
      "text/plain": [
       "interactive(children=(FloatSlider(value=1.1, description='tekst', max=3.3000000000000003, min=-1.1), Output())…"
      ]
     },
     "metadata": {},
     "output_type": "display_data"
    }
   ],
   "source": [
    "@interact\n",
    "def fufu(tekst = 1.1):\n",
    "    print(tekst)\n",
    "    \n",
    "#fufu(\"hello\")"
   ]
  },
  {
   "cell_type": "code",
   "execution_count": 16,
   "id": "4391595e",
   "metadata": {},
   "outputs": [
    {
     "data": {
      "application/vnd.jupyter.widget-view+json": {
       "model_id": "c7ff1b858fcd482186e5c5c38ce06a4b",
       "version_major": 2,
       "version_minor": 0
      },
      "text/plain": [
       "interactive(children=(Dropdown(description='ss', options=('pozycja 1', 'pozycja 2', 'pozycja 1', 'pozycja 2', …"
      ]
     },
     "metadata": {},
     "output_type": "display_data"
    }
   ],
   "source": [
    "@interact(ss = widgets.Dropdown(options=3*[\"pozycja 1\",\"pozycja 2\"]))\n",
    "def fufu(ss = \"ss\"):\n",
    "    print(\"tekst\",ss)\n"
   ]
  },
  {
   "cell_type": "code",
   "execution_count": 18,
   "id": "60ec1f52",
   "metadata": {},
   "outputs": [
    {
     "data": {
      "application/vnd.jupyter.widget-view+json": {
       "model_id": "ba9e3985ed2f4a3e8a8a8e86957f12a9",
       "version_major": 2,
       "version_minor": 0
      },
      "text/plain": [
       "interactive(children=(Dropdown(description='ss', options=('pozycja 1', 'pozycja 2', 'pozycja 1', 'pozycja 2', …"
      ]
     },
     "metadata": {},
     "output_type": "display_data"
    }
   ],
   "source": [
    "@interact_manual(ss = widgets.Dropdown(options=3*[\"pozycja 1\",\"pozycja 2\"]))\n",
    "def fufu(ss = \"ss\", fufu = 7):\n",
    "    print(\"tekst\",ss)"
   ]
  },
  {
   "cell_type": "code",
   "execution_count": 22,
   "id": "467e69a7",
   "metadata": {},
   "outputs": [
    {
     "data": {
      "application/vnd.jupyter.widget-view+json": {
       "model_id": "c599ebcc09874219839976f501755f59",
       "version_major": 2,
       "version_minor": 0
      },
      "text/plain": [
       "IntSlider(value=10, max=30, min=-10)"
      ]
     },
     "metadata": {},
     "output_type": "display_data"
    }
   ],
   "source": [
    "sli = IntSlider(min=-10, max=30, step=1, value=10)\n",
    "display(sli)"
   ]
  },
  {
   "cell_type": "code",
   "execution_count": 25,
   "id": "f2a6f38b",
   "metadata": {},
   "outputs": [],
   "source": [
    "sli.value =  1233"
   ]
  },
  {
   "cell_type": "code",
   "execution_count": null,
   "id": "18c3096b",
   "metadata": {},
   "outputs": [],
   "source": []
  }
 ],
 "metadata": {
  "kernelspec": {
   "display_name": "Python 3 (ipykernel)",
   "language": "python",
   "name": "python3"
  },
  "language_info": {
   "codemirror_mode": {
    "name": "ipython",
    "version": 3
   },
   "file_extension": ".py",
   "mimetype": "text/x-python",
   "name": "python",
   "nbconvert_exporter": "python",
   "pygments_lexer": "ipython3",
   "version": "3.8.10"
  }
 },
 "nbformat": 4,
 "nbformat_minor": 5
}
