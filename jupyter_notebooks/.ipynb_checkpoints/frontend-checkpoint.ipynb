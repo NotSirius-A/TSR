{
 "cells": [
  {
   "cell_type": "code",
   "execution_count": 1,
   "id": "4912cd19",
   "metadata": {},
   "outputs": [],
   "source": [
    "import rclpy\n",
    "from rclpy.node import Node\n",
    "from geometry_msgs.msg import Twist\n",
    "from geometry_msgs.msg import PoseWithCovarianceStamped\n",
    "from nav2_msgs.action import NavigateToPose\n",
    "from rclpy.action import ActionClient\n",
    "from geometry_msgs.msg import PoseStamped\n",
    "\n",
    "\n",
    "\n",
    "from pathlib import Path\n",
    "import time\n",
    "\n",
    "\n",
    "from storages import BaseStorage\n",
    "\n",
    "\n",
    "BASE_DIR = Path(\"/home/ubuntu/turtlebot3_ws/src/jupyter_notebooks\")\n",
    "\n",
    "storage_obj = BaseStorage(BASE_DIR)\n",
    "with storage_obj as s:\n",
    "    s.create_tables_if_not_exist()    \n",
    "\n",
    "\n",
    "class Taxi(Node): \n",
    "    def __init__(self): \n",
    "        super().__init__('taxi')\n",
    "\n",
    "rclpy.init()     \n",
    "taxi = Taxi()\n",
    "        \n",
    "    \n"
   ]
  },
  {
   "cell_type": "code",
   "execution_count": 2,
   "id": "cca1f946",
   "metadata": {},
   "outputs": [
    {
     "name": "stdout",
     "output_type": "stream",
     "text": [
      "37\n",
      "{'id': 37, 'is_completed': 1, 'in_progress': 0, 'timestamp': 1687458680402, 'x': 3.9, 'y': 0, 'z': 0}\n",
      "{'id': 36, 'is_completed': 1, 'in_progress': 0, 'timestamp': 1687458678288, 'x': 2.6, 'y': 2.5, 'z': 0}\n",
      "{'id': 35, 'is_completed': 1, 'in_progress': 0, 'timestamp': 1687458598160, 'x': 0.9, 'y': 0, 'z': 0}\n"
     ]
    }
   ],
   "source": [
    "from pathlib import Path\n",
    "\n",
    "BASE_DIR = Path(\"/home/ubuntu/turtlebot3_ws/src/jupyter_notebooks\")\n",
    "\n",
    "\n",
    "\n",
    "storage_obj = BaseStorage(BASE_DIR)\n",
    "with storage_obj as s:\n",
    "    cursor = s.conn.cursor()\n",
    "    rows = cursor.execute(\"SELECT * FROM schedules ORDER BY timestamp DESC\").fetchall()\n",
    "\n",
    "print(len(rows))\n",
    "if len(rows) > 2:\n",
    "    print({key: rows[0][key] for key in rows[0].keys()})\n",
    "    print({key: rows[1][key] for key in rows[1].keys()})\n",
    "    print({key: rows[2][key] for key in rows[2].keys()})    \n",
    "elif len(rows) > 0:\n",
    "    print({key: rows[0][key] for key in rows[0].keys()})"
   ]
  },
  {
   "cell_type": "code",
   "execution_count": null,
   "id": "99e17d10",
   "metadata": {},
   "outputs": [],
   "source": []
  },
  {
   "cell_type": "code",
   "execution_count": 4,
   "id": "be452b66",
   "metadata": {},
   "outputs": [],
   "source": [
    "BASE_DIR = Path(\"/home/ubuntu/turtlebot3_ws/src/jupyter_notebooks\")\n",
    "\n",
    "timestamp = int(time.time()*1000)\n",
    "\n",
    "storage_obj = BaseStorage(BASE_DIR)\n",
    "with storage_obj as s:\n",
    "    s.create_tables_if_not_exist()\n",
    "    timestamp = int(time.time()*1000)\n",
    "    s.insert_row({\"is_completed\":False, \"in_progress\":False, \"x\":2.6, \"y\":2.3, \"z\":0, \"timestamp\": timestamp}, \"schedules\")\n",
    "    time.sleep(2)\n",
    "    timestamp = int(time.time()*1000)\n",
    "    s.insert_row({\"is_completed\":False, \"in_progress\":False, \"x\":3.9, \"y\":0.0, \"z\":0, \"timestamp\": timestamp}, \"schedules\")"
   ]
  },
  {
   "cell_type": "code",
   "execution_count": null,
   "id": "612a7654",
   "metadata": {},
   "outputs": [],
   "source": []
  }
 ],
 "metadata": {
  "kernelspec": {
   "display_name": "Python 3 (ipykernel)",
   "language": "python",
   "name": "python3"
  },
  "language_info": {
   "codemirror_mode": {
    "name": "ipython",
    "version": 3
   },
   "file_extension": ".py",
   "mimetype": "text/x-python",
   "name": "python",
   "nbconvert_exporter": "python",
   "pygments_lexer": "ipython3",
   "version": "3.8.10"
  }
 },
 "nbformat": 4,
 "nbformat_minor": 5
}
