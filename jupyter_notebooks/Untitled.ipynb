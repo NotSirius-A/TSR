{
 "cells": [
  {
   "cell_type": "code",
   "execution_count": 2,
   "id": "6b4777de",
   "metadata": {},
   "outputs": [],
   "source": [
    "\n",
    "\n",
    "# from run_lx import run_lxterminal\n",
    "# run_lxterminal(\"ros2 launch turtlebot3_gazebo turtlebot3_world.launch.py\")\n",
    "# run_lxterminal(\"ros2 run turtlebot3_teleop teleop_keyboard\")\n",
    "\n"
   ]
  },
  {
   "cell_type": "code",
   "execution_count": 1,
   "id": "0ed0a648",
   "metadata": {},
   "outputs": [],
   "source": [
    "\n",
    "\n",
    "import rclpy\n",
    "from rclpy.node import Node\n",
    "\n",
    "\n",
    "from geometry_msgs.msg import Twist\n",
    "\n",
    "class TurtleMover(Node): #here we define new node\n",
    "    def __init__(self): \n",
    "        super().__init__('turtle_mover')\n",
    "        #we add publisher\n",
    "        self.publisher_ = self.create_publisher(Twist, \n",
    "                                                'turtle1/cmd_vel',\n",
    "                                                10)\n",
    "\n",
    "    \n",
    "    def move_turtle(self,twist_command): #we add helper function\n",
    "        self.publisher_.publish(twist_command)\n",
    "\n"
   ]
  },
  {
   "cell_type": "code",
   "execution_count": 2,
   "id": "1cbafe47",
   "metadata": {},
   "outputs": [],
   "source": [
    "\n",
    "\n",
    "rclpy.init()\n",
    "\n"
   ]
  },
  {
   "cell_type": "code",
   "execution_count": 3,
   "id": "e81f610c",
   "metadata": {},
   "outputs": [],
   "source": [
    "\n",
    "\n",
    "turtle_mover = TurtleMover()\n",
    "\n"
   ]
  },
  {
   "cell_type": "code",
   "execution_count": 4,
   "id": "7af0cd5e",
   "metadata": {},
   "outputs": [],
   "source": [
    "# run_lxterminal(\"ros2 launch turtlebot3_navigation2 navigation2.launch.py use_sim_time:=True map:=/home/ubuntu/turtlebot3_ws/src/jupyter_notebooks/map.yaml\")"
   ]
  },
  {
   "cell_type": "code",
   "execution_count": 5,
   "id": "a3fdfa20",
   "metadata": {},
   "outputs": [],
   "source": [
    "from geometry_msgs.msg import PoseWithCovarianceStamped\n",
    "\n",
    "send_start_pose_publisher = turtle_mover.create_publisher(PoseWithCovarianceStamped, 'initialpose', 1)\n"
   ]
  },
  {
   "cell_type": "code",
   "execution_count": 6,
   "id": "a68f928c",
   "metadata": {},
   "outputs": [],
   "source": [
    "initial_pose = PoseWithCovarianceStamped()\n",
    "initial_pose.header.stamp = turtle_mover.get_clock().now().to_msg()\n",
    "initial_pose.header.frame_id = \"map\"\n",
    "initial_pose.pose.pose.position.x = 0.08\n",
    "initial_pose.pose.pose.position.y = 0.0\n",
    "initial_pose.pose.pose.orientation.z = 0.0\n",
    "initial_pose.pose.pose.orientation.w = 1.0\n",
    "\n",
    "initial_pose.pose.covariance[0] = 0.25\n",
    "initial_pose.pose.covariance[7] = 0.25\n",
    "initial_pose.pose.covariance[-1] = 0.06\n",
    "\n",
    "send_start_pose_publisher.publish(initial_pose)"
   ]
  },
  {
   "cell_type": "code",
   "execution_count": 10,
   "id": "9861eca5",
   "metadata": {},
   "outputs": [],
   "source": [
    "#from geometry_msgs.action import \n",
    "from nav2_msgs.action import NavigateToPose\n",
    "from rclpy.action import ActionClient\n",
    "from geometry_msgs.msg import PoseStamped\n",
    "\n",
    "navigate_action = ActionClient(\n",
    "    turtle_mover, \n",
    "    NavigateToPose,\n",
    "    '/navigate_to_pose')\n",
    "\n",
    "\n",
    "def print_feedback_goal(future):\n",
    "    try:\n",
    "        print(\"feedback {}\".format(future.feedback))\n",
    "    except:\n",
    "        pass\n",
    "    \n",
    "def history_success(future):\n",
    "    print(\"done\")\n",
    "    print(\"we have achieved the goal {}, {}\".format(\n",
    "        future.result(),\n",
    "        future.result().result))\n",
    "    \n",
    "def received_task(future):\n",
    "    goal_handle =  future.result()\n",
    "    \n",
    "    if not goal_handle.accepted:\n",
    "        print(\"not accepted\")\n",
    "        return\n",
    "    else:\n",
    "        print(\"accepted goal\")\n",
    "    \n",
    "    get_result_future = goal_handle.get_result_async()\n",
    "    \n",
    "    get_result_future.add_done_callback(history_success)\n",
    "\n",
    "\n",
    "navigate_pose_goal = NavigateToPose.Goal()    \n",
    "goal_pose = PoseStamped()\n",
    "goal_pose.header.stamp = turtle_mover.get_clock().now().to_msg()\n",
    "goal_pose.pose.position.x = 3.9\n",
    "goal_pose.pose.position.y = 0.0\n",
    "goal_pose.pose.orientation.z = 1.7\n",
    "goal_pose.pose.orientation.w = 1.71\n",
    "navigate_pose_goal.pose = goal_pose\n",
    "goal_future_pose = navigate_action.send_goal_async(navigate_pose_goal,feedback_callback=print_feedback_goal)\n",
    "goal_future_pose.add_done_callback(received_task) "
   ]
  },
  {
   "cell_type": "code",
   "execution_count": null,
   "id": "185bf66e",
   "metadata": {},
   "outputs": [
    {
     "name": "stdout",
     "output_type": "stream",
     "text": [
      "feedback nav2_msgs.action.NavigateToPose_Feedback(current_pose=geometry_msgs.msg.PoseStamped(header=std_msgs.msg.Header(stamp=builtin_interfaces.msg.Time(sec=99, nanosec=994000000), frame_id='map'), pose=geometry_msgs.msg.Pose(position=geometry_msgs.msg.Point(x=3.7026413150532482, y=-0.03515376595442854, z=0.009996958375739464), orientation=geometry_msgs.msg.Quaternion(x=-0.0003498265930484396, y=-0.00029387757098866385, z=0.7045076556723137, w=0.7096962409062265))), navigation_time=builtin_interfaces.msg.Duration(sec=6, nanosec=355000000), number_of_recoveries=0, distance_remaining=0.20071417093276978)\n",
      "accepted goal\n",
      "accepted goal\n",
      "feedback nav2_msgs.action.NavigateToPose_Feedback(current_pose=geometry_msgs.msg.PoseStamped(header=std_msgs.msg.Header(stamp=builtin_interfaces.msg.Time(sec=99, nanosec=994000000), frame_id='map'), pose=geometry_msgs.msg.Pose(position=geometry_msgs.msg.Point(x=3.7026413150532482, y=-0.03515376595442854, z=0.009996958375739464), orientation=geometry_msgs.msg.Quaternion(x=-0.0003498265930484396, y=-0.00029387757098866385, z=0.7045076556723137, w=0.7096962409062265))), navigation_time=builtin_interfaces.msg.Duration(sec=6, nanosec=355000000), number_of_recoveries=0, distance_remaining=0.20071417093276978)\n",
      "done\n",
      "we have achieved the goal nav2_msgs.action.NavigateToPose_GetResult_Response(status=6, result=nav2_msgs.action.NavigateToPose_Result(result=std_msgs.msg.Empty())), nav2_msgs.action.NavigateToPose_Result(result=std_msgs.msg.Empty())\n",
      "done\n",
      "we have achieved the goal nav2_msgs.action.NavigateToPose_GetResult_Response(status=4, result=nav2_msgs.action.NavigateToPose_Result(result=std_msgs.msg.Empty())), nav2_msgs.action.NavigateToPose_Result(result=std_msgs.msg.Empty())\n"
     ]
    }
   ],
   "source": [
    "rclpy.spin(turtle_mover)    "
   ]
  },
  {
   "cell_type": "code",
   "execution_count": 8,
   "id": "2c04adca",
   "metadata": {},
   "outputs": [],
   "source": [
    "big_turtle_publisher = turtle_mover.create_publisher(\n",
    "    Twist,\n",
    "    'cmd_vel',\n",
    "    10)\n",
    "\n",
    "new_msg =  Twist()\n",
    "\n",
    "#new_msg.linear.x = 0.3\n",
    "new_msg.angular.z = 0.1\n",
    "big_turtle_publisher.publish(new_msg)"
   ]
  },
  {
   "cell_type": "code",
   "execution_count": null,
   "id": "d30fae0b",
   "metadata": {},
   "outputs": [],
   "source": []
  }
 ],
 "metadata": {
  "kernelspec": {
   "display_name": "Python 3 (ipykernel)",
   "language": "python",
   "name": "python3"
  },
  "language_info": {
   "codemirror_mode": {
    "name": "ipython",
    "version": 3
   },
   "file_extension": ".py",
   "mimetype": "text/x-python",
   "name": "python",
   "nbconvert_exporter": "python",
   "pygments_lexer": "ipython3",
   "version": "3.8.10"
  }
 },
 "nbformat": 4,
 "nbformat_minor": 5
}
